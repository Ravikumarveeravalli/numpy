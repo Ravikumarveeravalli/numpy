{
 "cells": [
  {
   "cell_type": "markdown",
   "id": "7a9dab13",
   "metadata": {},
   "source": [
    "## libraries are nothinhg but collection of functions and classes"
   ]
  },
  {
   "cell_type": "code",
   "execution_count": 1,
   "id": "1a9e86e3",
   "metadata": {},
   "outputs": [],
   "source": [
    "#pip install module/libraryname"
   ]
  },
  {
   "cell_type": "code",
   "execution_count": null,
   "id": "2c7d0168",
   "metadata": {},
   "outputs": [],
   "source": []
  },
  {
   "cell_type": "code",
   "execution_count": 2,
   "id": "64b6eaf7",
   "metadata": {},
   "outputs": [],
   "source": [
    "# import module/libraryname"
   ]
  },
  {
   "cell_type": "code",
   "execution_count": null,
   "id": "19319f40",
   "metadata": {},
   "outputs": [],
   "source": []
  },
  {
   "cell_type": "code",
   "execution_count": 3,
   "id": "607fc34a",
   "metadata": {},
   "outputs": [],
   "source": [
    "# from libraryname import module1,module2,module4"
   ]
  },
  {
   "cell_type": "markdown",
   "id": "ad4732b1",
   "metadata": {},
   "source": [
    "# modules :"
   ]
  },
  {
   "cell_type": "markdown",
   "id": "b5e9b538",
   "metadata": {},
   "source": [
    "## 1.Random:-"
   ]
  },
  {
   "cell_type": "code",
   "execution_count": 1,
   "id": "fd9f59fa",
   "metadata": {},
   "outputs": [],
   "source": [
    "import random"
   ]
  },
  {
   "cell_type": "code",
   "execution_count": 2,
   "id": "4f7eec15",
   "metadata": {},
   "outputs": [],
   "source": [
    "# random() will generate a random number between 0 and 1 float values"
   ]
  },
  {
   "cell_type": "code",
   "execution_count": 4,
   "id": "1e7cdccb",
   "metadata": {},
   "outputs": [
    {
     "data": {
      "text/plain": [
       "0.6118039350957166"
      ]
     },
     "execution_count": 4,
     "metadata": {},
     "output_type": "execute_result"
    }
   ],
   "source": [
    "random.random()"
   ]
  },
  {
   "cell_type": "code",
   "execution_count": 6,
   "id": "2e6edd5e",
   "metadata": {},
   "outputs": [],
   "source": [
    "# randint() will genrate a random intiger values between a and b"
   ]
  },
  {
   "cell_type": "code",
   "execution_count": 14,
   "id": "3caac05d",
   "metadata": {},
   "outputs": [
    {
     "data": {
      "text/plain": [
       "2"
      ]
     },
     "execution_count": 14,
     "metadata": {},
     "output_type": "execute_result"
    }
   ],
   "source": [
    "random.randint(1,3)"
   ]
  },
  {
   "cell_type": "code",
   "execution_count": 15,
   "id": "7601a131",
   "metadata": {},
   "outputs": [
    {
     "data": {
      "text/plain": [
       "1"
      ]
     },
     "execution_count": 15,
     "metadata": {},
     "output_type": "execute_result"
    }
   ],
   "source": [
    "random.randint(1,3)"
   ]
  },
  {
   "cell_type": "code",
   "execution_count": 16,
   "id": "6edac8c7",
   "metadata": {},
   "outputs": [],
   "source": [
    "import random as x"
   ]
  },
  {
   "cell_type": "code",
   "execution_count": 17,
   "id": "2d82a953",
   "metadata": {},
   "outputs": [
    {
     "data": {
      "text/plain": [
       "0.34663065272894655"
      ]
     },
     "execution_count": 17,
     "metadata": {},
     "output_type": "execute_result"
    }
   ],
   "source": [
    "x.random()"
   ]
  },
  {
   "cell_type": "markdown",
   "id": "339c457e",
   "metadata": {},
   "source": [
    "## 2.Randrange:-"
   ]
  },
  {
   "cell_type": "code",
   "execution_count": 18,
   "id": "02acbccb",
   "metadata": {},
   "outputs": [],
   "source": [
    "# randrange () will genrate a random values between a spesified values"
   ]
  },
  {
   "cell_type": "code",
   "execution_count": 25,
   "id": "af37788e",
   "metadata": {},
   "outputs": [
    {
     "data": {
      "text/plain": [
       "1"
      ]
     },
     "execution_count": 25,
     "metadata": {},
     "output_type": "execute_result"
    }
   ],
   "source": [
    "x.randrange(1,3)"
   ]
  },
  {
   "cell_type": "markdown",
   "id": "091a362e",
   "metadata": {},
   "source": [
    "## uniform:-"
   ]
  },
  {
   "cell_type": "code",
   "execution_count": 26,
   "id": "d34d976b",
   "metadata": {},
   "outputs": [],
   "source": [
    "# uniform will generate a float value between two numbers will uniform distribution"
   ]
  },
  {
   "cell_type": "code",
   "execution_count": 27,
   "id": "ebe08c89",
   "metadata": {},
   "outputs": [
    {
     "data": {
      "text/plain": [
       "3.2569052357991493"
      ]
     },
     "execution_count": 27,
     "metadata": {},
     "output_type": "execute_result"
    }
   ],
   "source": [
    "x.uniform(1,4)"
   ]
  },
  {
   "cell_type": "markdown",
   "id": "c9143108",
   "metadata": {},
   "source": [
    "## sample()"
   ]
  },
  {
   "cell_type": "code",
   "execution_count": null,
   "id": "00713a71",
   "metadata": {},
   "outputs": [],
   "source": [
    "# sample() will "
   ]
  },
  {
   "cell_type": "code",
   "execution_count": 30,
   "id": "f691f02e",
   "metadata": {},
   "outputs": [
    {
     "data": {
      "text/plain": [
       "[2, 4]"
      ]
     },
     "execution_count": 30,
     "metadata": {},
     "output_type": "execute_result"
    }
   ],
   "source": [
    "x.sample([1,2,3,4,],k=2)"
   ]
  },
  {
   "cell_type": "code",
   "execution_count": 32,
   "id": "a7a4ee08",
   "metadata": {},
   "outputs": [
    {
     "data": {
      "text/plain": [
       "[34, 3, 1, 8, 3, 4, 44]"
      ]
     },
     "execution_count": 32,
     "metadata": {},
     "output_type": "execute_result"
    }
   ],
   "source": [
    "x.sample([1,2,3,4,5,6,7,8,9,1,34,44,4,5,3,3],k=7)"
   ]
  },
  {
   "cell_type": "code",
   "execution_count": 33,
   "id": "e8a29eae",
   "metadata": {},
   "outputs": [
    {
     "ename": "ValueError",
     "evalue": "Sample larger than population or is negative",
     "output_type": "error",
     "traceback": [
      "\u001b[1;31m---------------------------------------------------------------------------\u001b[0m",
      "\u001b[1;31mValueError\u001b[0m                                Traceback (most recent call last)",
      "\u001b[1;32m~\\AppData\\Local\\Temp\\ipykernel_18968\\609970337.py\u001b[0m in \u001b[0;36m<module>\u001b[1;34m\u001b[0m\n\u001b[1;32m----> 1\u001b[1;33m \u001b[0mx\u001b[0m\u001b[1;33m.\u001b[0m\u001b[0msample\u001b[0m\u001b[1;33m(\u001b[0m\u001b[1;33m[\u001b[0m\u001b[1;36m1\u001b[0m\u001b[1;33m,\u001b[0m\u001b[1;36m2\u001b[0m\u001b[1;33m,\u001b[0m\u001b[1;36m3\u001b[0m\u001b[1;33m,\u001b[0m\u001b[1;36m4\u001b[0m\u001b[1;33m]\u001b[0m\u001b[1;33m,\u001b[0m\u001b[0mk\u001b[0m\u001b[1;33m=\u001b[0m\u001b[1;36m5\u001b[0m\u001b[1;33m)\u001b[0m\u001b[1;33m\u001b[0m\u001b[1;33m\u001b[0m\u001b[0m\n\u001b[0m",
      "\u001b[1;32mC:\\ProgramData\\Anaconda3\\lib\\random.py\u001b[0m in \u001b[0;36msample\u001b[1;34m(self, population, k, counts)\u001b[0m\n\u001b[0;32m    447\u001b[0m         \u001b[0mrandbelow\u001b[0m \u001b[1;33m=\u001b[0m \u001b[0mself\u001b[0m\u001b[1;33m.\u001b[0m\u001b[0m_randbelow\u001b[0m\u001b[1;33m\u001b[0m\u001b[1;33m\u001b[0m\u001b[0m\n\u001b[0;32m    448\u001b[0m         \u001b[1;32mif\u001b[0m \u001b[1;32mnot\u001b[0m \u001b[1;36m0\u001b[0m \u001b[1;33m<=\u001b[0m \u001b[0mk\u001b[0m \u001b[1;33m<=\u001b[0m \u001b[0mn\u001b[0m\u001b[1;33m:\u001b[0m\u001b[1;33m\u001b[0m\u001b[1;33m\u001b[0m\u001b[0m\n\u001b[1;32m--> 449\u001b[1;33m             \u001b[1;32mraise\u001b[0m \u001b[0mValueError\u001b[0m\u001b[1;33m(\u001b[0m\u001b[1;34m\"Sample larger than population or is negative\"\u001b[0m\u001b[1;33m)\u001b[0m\u001b[1;33m\u001b[0m\u001b[1;33m\u001b[0m\u001b[0m\n\u001b[0m\u001b[0;32m    450\u001b[0m         \u001b[0mresult\u001b[0m \u001b[1;33m=\u001b[0m \u001b[1;33m[\u001b[0m\u001b[1;32mNone\u001b[0m\u001b[1;33m]\u001b[0m \u001b[1;33m*\u001b[0m \u001b[0mk\u001b[0m\u001b[1;33m\u001b[0m\u001b[1;33m\u001b[0m\u001b[0m\n\u001b[0;32m    451\u001b[0m         \u001b[0msetsize\u001b[0m \u001b[1;33m=\u001b[0m \u001b[1;36m21\u001b[0m        \u001b[1;31m# size of a small set minus size of an empty list\u001b[0m\u001b[1;33m\u001b[0m\u001b[1;33m\u001b[0m\u001b[0m\n",
      "\u001b[1;31mValueError\u001b[0m: Sample larger than population or is negative"
     ]
    }
   ],
   "source": [
    "x.sample([1,2,3,4],k=5)"
   ]
  },
  {
   "cell_type": "markdown",
   "id": "de219992",
   "metadata": {},
   "source": [
    "## choices()"
   ]
  },
  {
   "cell_type": "code",
   "execution_count": 49,
   "id": "b419a04a",
   "metadata": {},
   "outputs": [],
   "source": [
    "#choices() will choose the random values with repitation"
   ]
  },
  {
   "cell_type": "code",
   "execution_count": 34,
   "id": "2f649e0a",
   "metadata": {},
   "outputs": [
    {
     "data": {
      "text/plain": [
       "['c', 'b']"
      ]
     },
     "execution_count": 34,
     "metadata": {},
     "output_type": "execute_result"
    }
   ],
   "source": [
    "x.sample(\"abc\",k=2)"
   ]
  },
  {
   "cell_type": "code",
   "execution_count": 48,
   "id": "770c8353",
   "metadata": {},
   "outputs": [
    {
     "data": {
      "text/plain": [
       "['b', 'b']"
      ]
     },
     "execution_count": 48,
     "metadata": {},
     "output_type": "execute_result"
    }
   ],
   "source": [
    "x.choices(\"abc\",k=2)"
   ]
  },
  {
   "cell_type": "code",
   "execution_count": 50,
   "id": "0825f058",
   "metadata": {},
   "outputs": [
    {
     "data": {
      "text/plain": [
       "['b', 'a', 'b', 'b', 'b', 'b', 'a', 'c', 'a', 'a']"
      ]
     },
     "execution_count": 50,
     "metadata": {},
     "output_type": "execute_result"
    }
   ],
   "source": [
    "x.choices(\"abc\",k=10)"
   ]
  },
  {
   "cell_type": "markdown",
   "id": "925d96c8",
   "metadata": {},
   "source": [
    "## shuffle()"
   ]
  },
  {
   "cell_type": "code",
   "execution_count": null,
   "id": "8472add1",
   "metadata": {},
   "outputs": [],
   "source": []
  },
  {
   "cell_type": "code",
   "execution_count": 51,
   "id": "f318fa4b",
   "metadata": {},
   "outputs": [],
   "source": [
    "z=[\"a\",\"b\",\"c\"]\n",
    "x.shuffle(z)"
   ]
  },
  {
   "cell_type": "code",
   "execution_count": 52,
   "id": "b792899a",
   "metadata": {},
   "outputs": [
    {
     "data": {
      "text/plain": [
       "['a', 'c', 'b']"
      ]
     },
     "execution_count": 52,
     "metadata": {},
     "output_type": "execute_result"
    }
   ],
   "source": [
    "z"
   ]
  },
  {
   "cell_type": "markdown",
   "id": "56ddf7e2",
   "metadata": {},
   "source": [
    "##    seed()"
   ]
  },
  {
   "cell_type": "code",
   "execution_count": null,
   "id": "09f7c5cf",
   "metadata": {},
   "outputs": [],
   "source": []
  },
  {
   "cell_type": "code",
   "execution_count": 54,
   "id": "9ba1f229",
   "metadata": {},
   "outputs": [
    {
     "data": {
      "text/plain": [
       "74"
      ]
     },
     "execution_count": 54,
     "metadata": {},
     "output_type": "execute_result"
    }
   ],
   "source": [
    "x.seed(10)\n",
    "x.randint(1,100)"
   ]
  },
  {
   "cell_type": "code",
   "execution_count": 57,
   "id": "52eed963",
   "metadata": {},
   "outputs": [
    {
     "data": {
      "text/plain": [
       "99"
      ]
     },
     "execution_count": 57,
     "metadata": {},
     "output_type": "execute_result"
    }
   ],
   "source": [
    "x.seed()\n",
    "x.randint(1,100)"
   ]
  },
  {
   "cell_type": "code",
   "execution_count": 58,
   "id": "f31386ba",
   "metadata": {},
   "outputs": [
    {
     "data": {
      "text/plain": [
       "11"
      ]
     },
     "execution_count": 58,
     "metadata": {},
     "output_type": "execute_result"
    }
   ],
   "source": [
    "x.seed()\n",
    "x.randint(1,100)"
   ]
  },
  {
   "cell_type": "code",
   "execution_count": 60,
   "id": "019a8938",
   "metadata": {},
   "outputs": [
    {
     "data": {
      "text/plain": [
       "93"
      ]
     },
     "execution_count": 60,
     "metadata": {},
     "output_type": "execute_result"
    }
   ],
   "source": [
    "x.seed(20)\n",
    "x.randint(1,100)"
   ]
  },
  {
   "cell_type": "markdown",
   "id": "b891ea8f",
   "metadata": {},
   "source": [
    "# creating your own module"
   ]
  },
  {
   "cell_type": "code",
   "execution_count": 2,
   "id": "4cc25cc9",
   "metadata": {},
   "outputs": [
    {
     "ename": "ModuleNotFoundError",
     "evalue": "No module named 'maa'",
     "output_type": "error",
     "traceback": [
      "\u001b[1;31m---------------------------------------------------------------------------\u001b[0m",
      "\u001b[1;31mModuleNotFoundError\u001b[0m                       Traceback (most recent call last)",
      "\u001b[1;32m~\\AppData\\Local\\Temp\\ipykernel_18772\\289166679.py\u001b[0m in \u001b[0;36m<module>\u001b[1;34m\u001b[0m\n\u001b[1;32m----> 1\u001b[1;33m \u001b[1;32mimport\u001b[0m \u001b[0mmaa\u001b[0m\u001b[1;33m\u001b[0m\u001b[1;33m\u001b[0m\u001b[0m\n\u001b[0m",
      "\u001b[1;31mModuleNotFoundError\u001b[0m: No module named 'maa'"
     ]
    }
   ],
   "source": []
  },
  {
   "cell_type": "code",
   "execution_count": null,
   "id": "894448ec",
   "metadata": {},
   "outputs": [],
   "source": []
  },
  {
   "cell_type": "markdown",
   "id": "d60dab7a",
   "metadata": {},
   "source": [
    "# Numpy :"
   ]
  },
  {
   "cell_type": "code",
   "execution_count": 1,
   "id": "2f2599a4",
   "metadata": {},
   "outputs": [],
   "source": [
    "# we can create an array \n",
    "# we can create n-dimentional array object.\n",
    "# it provides lots of tools.\n"
   ]
  },
  {
   "cell_type": "markdown",
   "id": "84638c47",
   "metadata": {},
   "source": [
    "### 1.array :"
   ]
  },
  {
   "cell_type": "code",
   "execution_count": 2,
   "id": "152d5ee9",
   "metadata": {},
   "outputs": [],
   "source": [
    "# array is a collection of similar type of data.\n",
    "# array containes homoginious data\n",
    "# arrays are mutable\n",
    "# array has each element have an index value.\n",
    "# array also consider as odered.\n",
    "# array containes duplicate elements "
   ]
  },
  {
   "cell_type": "markdown",
   "id": "b5bce0ec",
   "metadata": {},
   "source": [
    "### pip instal numpy"
   ]
  },
  {
   "cell_type": "code",
   "execution_count": null,
   "id": "d32a172a",
   "metadata": {},
   "outputs": [],
   "source": []
  },
  {
   "cell_type": "code",
   "execution_count": null,
   "id": "6b8ea937",
   "metadata": {},
   "outputs": [],
   "source": []
  },
  {
   "cell_type": "markdown",
   "id": "992be419",
   "metadata": {},
   "source": [
    "## creating an array"
   ]
  },
  {
   "cell_type": "code",
   "execution_count": 3,
   "id": "b540b656",
   "metadata": {},
   "outputs": [],
   "source": [
    "import numpy as np"
   ]
  },
  {
   "cell_type": "code",
   "execution_count": 4,
   "id": "6aef530c",
   "metadata": {},
   "outputs": [],
   "source": [
    "x=np.array(5)"
   ]
  },
  {
   "cell_type": "code",
   "execution_count": 5,
   "id": "3dfb6ff0",
   "metadata": {},
   "outputs": [
    {
     "data": {
      "text/plain": [
       "numpy.ndarray"
      ]
     },
     "execution_count": 5,
     "metadata": {},
     "output_type": "execute_result"
    }
   ],
   "source": [
    "type(x)"
   ]
  },
  {
   "cell_type": "code",
   "execution_count": 6,
   "id": "dbf6e888",
   "metadata": {},
   "outputs": [
    {
     "data": {
      "text/plain": [
       "0"
      ]
     },
     "execution_count": 6,
     "metadata": {},
     "output_type": "execute_result"
    }
   ],
   "source": [
    "x.ndim  # to get the rank of an array."
   ]
  },
  {
   "cell_type": "code",
   "execution_count": 7,
   "id": "f7283995",
   "metadata": {},
   "outputs": [],
   "source": [
    "x1=np.array([5])"
   ]
  },
  {
   "cell_type": "code",
   "execution_count": 8,
   "id": "6440e537",
   "metadata": {},
   "outputs": [
    {
     "data": {
      "text/plain": [
       "array([5])"
      ]
     },
     "execution_count": 8,
     "metadata": {},
     "output_type": "execute_result"
    }
   ],
   "source": [
    "x1"
   ]
  },
  {
   "cell_type": "code",
   "execution_count": 9,
   "id": "33ad15b7",
   "metadata": {},
   "outputs": [],
   "source": [
    "x1=np.array([5,6,7,8,9,0])"
   ]
  },
  {
   "cell_type": "code",
   "execution_count": 10,
   "id": "3f8439f7",
   "metadata": {},
   "outputs": [
    {
     "data": {
      "text/plain": [
       "array([5, 6, 7, 8, 9, 0])"
      ]
     },
     "execution_count": 10,
     "metadata": {},
     "output_type": "execute_result"
    }
   ],
   "source": [
    "x1"
   ]
  },
  {
   "cell_type": "code",
   "execution_count": 11,
   "id": "396c92a3",
   "metadata": {},
   "outputs": [
    {
     "data": {
      "text/plain": [
       "1"
      ]
     },
     "execution_count": 11,
     "metadata": {},
     "output_type": "execute_result"
    }
   ],
   "source": [
    "x1.ndim"
   ]
  },
  {
   "cell_type": "code",
   "execution_count": 16,
   "id": "c90737aa",
   "metadata": {},
   "outputs": [],
   "source": [
    "x2=np.array([[5,6,7],[8,9,10],[11,12,13]])"
   ]
  },
  {
   "cell_type": "code",
   "execution_count": 17,
   "id": "20a14b1a",
   "metadata": {},
   "outputs": [
    {
     "data": {
      "text/plain": [
       "array([[ 5,  6,  7],\n",
       "       [ 8,  9, 10],\n",
       "       [11, 12, 13]])"
      ]
     },
     "execution_count": 17,
     "metadata": {},
     "output_type": "execute_result"
    }
   ],
   "source": [
    "x2"
   ]
  },
  {
   "cell_type": "code",
   "execution_count": 18,
   "id": "b8b811e2",
   "metadata": {},
   "outputs": [
    {
     "data": {
      "text/plain": [
       "2"
      ]
     },
     "execution_count": 18,
     "metadata": {},
     "output_type": "execute_result"
    }
   ],
   "source": [
    "x2.ndim"
   ]
  },
  {
   "cell_type": "code",
   "execution_count": 19,
   "id": "6b8bed27",
   "metadata": {},
   "outputs": [],
   "source": [
    "x3=np.array([[[[[5,6,7],[7,8,9]]]]])"
   ]
  },
  {
   "cell_type": "code",
   "execution_count": 20,
   "id": "b462f279",
   "metadata": {},
   "outputs": [
    {
     "data": {
      "text/plain": [
       "array([[[[[5, 6, 7],\n",
       "          [7, 8, 9]]]]])"
      ]
     },
     "execution_count": 20,
     "metadata": {},
     "output_type": "execute_result"
    }
   ],
   "source": [
    "x3"
   ]
  },
  {
   "cell_type": "code",
   "execution_count": 21,
   "id": "18176842",
   "metadata": {},
   "outputs": [
    {
     "data": {
      "text/plain": [
       "5"
      ]
     },
     "execution_count": 21,
     "metadata": {},
     "output_type": "execute_result"
    }
   ],
   "source": [
    "x3.ndim"
   ]
  },
  {
   "cell_type": "markdown",
   "id": "999e6f8a",
   "metadata": {},
   "source": [
    "### (dtype) used to change the data type (string,int,complex,float)"
   ]
  },
  {
   "cell_type": "code",
   "execution_count": 26,
   "id": "2aa069f3",
   "metadata": {},
   "outputs": [],
   "source": [
    "x1=np.array([5,6,7,8,9,10],dtype=str)"
   ]
  },
  {
   "cell_type": "code",
   "execution_count": 24,
   "id": "960e8d95",
   "metadata": {},
   "outputs": [
    {
     "data": {
      "text/plain": [
       "array(['5', '6', '7', '8', '9', '10'], dtype='<U2')"
      ]
     },
     "execution_count": 24,
     "metadata": {},
     "output_type": "execute_result"
    }
   ],
   "source": [
    "x1"
   ]
  },
  {
   "cell_type": "code",
   "execution_count": 27,
   "id": "1411c1ae",
   "metadata": {},
   "outputs": [],
   "source": [
    "x1=np.array([5,6,7,8,9,10],dtype=complex)"
   ]
  },
  {
   "cell_type": "code",
   "execution_count": 28,
   "id": "adc3cccc",
   "metadata": {},
   "outputs": [
    {
     "data": {
      "text/plain": [
       "array([ 5.+0.j,  6.+0.j,  7.+0.j,  8.+0.j,  9.+0.j, 10.+0.j])"
      ]
     },
     "execution_count": 28,
     "metadata": {},
     "output_type": "execute_result"
    }
   ],
   "source": [
    "x1"
   ]
  },
  {
   "cell_type": "code",
   "execution_count": 29,
   "id": "7918abc3",
   "metadata": {},
   "outputs": [],
   "source": [
    "x1=np.array([5,6,7,8,9,10],dtype=np.int8)"
   ]
  },
  {
   "cell_type": "code",
   "execution_count": 30,
   "id": "0db008d8",
   "metadata": {},
   "outputs": [
    {
     "data": {
      "text/plain": [
       "array([ 5,  6,  7,  8,  9, 10], dtype=int8)"
      ]
     },
     "execution_count": 30,
     "metadata": {},
     "output_type": "execute_result"
    }
   ],
   "source": [
    "x1"
   ]
  },
  {
   "cell_type": "code",
   "execution_count": 33,
   "id": "73519733",
   "metadata": {},
   "outputs": [],
   "source": [
    "x1=np.array([5,6,7,8,9,10],dtype=np.bool_)"
   ]
  },
  {
   "cell_type": "code",
   "execution_count": 34,
   "id": "908e5307",
   "metadata": {},
   "outputs": [
    {
     "data": {
      "text/plain": [
       "array([ True,  True,  True,  True,  True,  True])"
      ]
     },
     "execution_count": 34,
     "metadata": {},
     "output_type": "execute_result"
    }
   ],
   "source": [
    "x1"
   ]
  },
  {
   "cell_type": "markdown",
   "id": "283bc5ea",
   "metadata": {},
   "source": [
    "### (ndmin) is used to create a dimentions min=0 & max=32\n"
   ]
  },
  {
   "cell_type": "code",
   "execution_count": 35,
   "id": "f4fee7ec",
   "metadata": {},
   "outputs": [],
   "source": [
    "x1=np.array([5,6,7,8,9,10],dtype=int,ndmin=3)"
   ]
  },
  {
   "cell_type": "code",
   "execution_count": 36,
   "id": "1dcd7286",
   "metadata": {},
   "outputs": [
    {
     "data": {
      "text/plain": [
       "array([[[ 5,  6,  7,  8,  9, 10]]])"
      ]
     },
     "execution_count": 36,
     "metadata": {},
     "output_type": "execute_result"
    }
   ],
   "source": [
    "x1"
   ]
  },
  {
   "cell_type": "code",
   "execution_count": 37,
   "id": "749eada8",
   "metadata": {},
   "outputs": [],
   "source": [
    "x1=np.array([5,6,7,8,9,10],dtype=int,ndmin=10)"
   ]
  },
  {
   "cell_type": "code",
   "execution_count": 38,
   "id": "3404661f",
   "metadata": {},
   "outputs": [
    {
     "data": {
      "text/plain": [
       "array([[[[[[[[[[ 5,  6,  7,  8,  9, 10]]]]]]]]]])"
      ]
     },
     "execution_count": 38,
     "metadata": {},
     "output_type": "execute_result"
    }
   ],
   "source": [
    "x1"
   ]
  },
  {
   "cell_type": "code",
   "execution_count": 39,
   "id": "ad106a21",
   "metadata": {},
   "outputs": [],
   "source": [
    "x1=np.array([5,6,7,8,9,10],dtype=int,ndmin=32)"
   ]
  },
  {
   "cell_type": "code",
   "execution_count": 40,
   "id": "ae9b63e0",
   "metadata": {},
   "outputs": [
    {
     "data": {
      "text/plain": [
       "array([[[[[[[[[[[[[[[[[[[[[[[[[[[[[[[[ 5,\n",
       "                                       6,\n",
       "                                       7,\n",
       "                                       8,\n",
       "                                       9,\n",
       "                                      10]]]]]]]]]]]]]]]]]]]]]]]]]]]]]]]])"
      ]
     },
     "execution_count": 40,
     "metadata": {},
     "output_type": "execute_result"
    }
   ],
   "source": [
    "x1"
   ]
  },
  {
   "cell_type": "code",
   "execution_count": null,
   "id": "f5d60e56",
   "metadata": {},
   "outputs": [],
   "source": [
    "#"
   ]
  },
  {
   "cell_type": "code",
   "execution_count": 45,
   "id": "604d1047",
   "metadata": {},
   "outputs": [],
   "source": [
    "e=np.array([1,6,0,8,9.0+2j,\"10\"])"
   ]
  },
  {
   "cell_type": "code",
   "execution_count": 46,
   "id": "8a00d6ab",
   "metadata": {},
   "outputs": [
    {
     "data": {
      "text/plain": [
       "array(['1', '6', '0', '8', '(9+2j)', '10'], dtype='<U64')"
      ]
     },
     "execution_count": 46,
     "metadata": {},
     "output_type": "execute_result"
    }
   ],
   "source": [
    "e"
   ]
  },
  {
   "cell_type": "code",
   "execution_count": 47,
   "id": "b9e2cde1",
   "metadata": {},
   "outputs": [
    {
     "data": {
      "text/plain": [
       "dtype('<U64')"
      ]
     },
     "execution_count": 47,
     "metadata": {},
     "output_type": "execute_result"
    }
   ],
   "source": [
    "e.dtype"
   ]
  },
  {
   "cell_type": "markdown",
   "id": "f40068a1",
   "metadata": {},
   "source": [
    "### (shape) it will showa many rows and columns are present in an array"
   ]
  },
  {
   "cell_type": "code",
   "execution_count": 49,
   "id": "e1e25205",
   "metadata": {},
   "outputs": [
    {
     "data": {
      "text/plain": [
       "(1,\n",
       " 1,\n",
       " 1,\n",
       " 1,\n",
       " 1,\n",
       " 1,\n",
       " 1,\n",
       " 1,\n",
       " 1,\n",
       " 1,\n",
       " 1,\n",
       " 1,\n",
       " 1,\n",
       " 1,\n",
       " 1,\n",
       " 1,\n",
       " 1,\n",
       " 1,\n",
       " 1,\n",
       " 1,\n",
       " 1,\n",
       " 1,\n",
       " 1,\n",
       " 1,\n",
       " 1,\n",
       " 1,\n",
       " 1,\n",
       " 1,\n",
       " 1,\n",
       " 1,\n",
       " 1,\n",
       " 6)"
      ]
     },
     "execution_count": 49,
     "metadata": {},
     "output_type": "execute_result"
    }
   ],
   "source": [
    "x1.shape"
   ]
  },
  {
   "cell_type": "code",
   "execution_count": 50,
   "id": "15ea80eb",
   "metadata": {},
   "outputs": [],
   "source": [
    "e=np.array([3])"
   ]
  },
  {
   "cell_type": "code",
   "execution_count": 51,
   "id": "950cf64f",
   "metadata": {},
   "outputs": [
    {
     "data": {
      "text/plain": [
       "array([3])"
      ]
     },
     "execution_count": 51,
     "metadata": {},
     "output_type": "execute_result"
    }
   ],
   "source": [
    "e"
   ]
  },
  {
   "cell_type": "code",
   "execution_count": 54,
   "id": "f1288ce4",
   "metadata": {},
   "outputs": [
    {
     "data": {
      "text/plain": [
       "numpy.ndarray"
      ]
     },
     "execution_count": 54,
     "metadata": {},
     "output_type": "execute_result"
    }
   ],
   "source": [
    "type(e)"
   ]
  },
  {
   "cell_type": "code",
   "execution_count": 55,
   "id": "b659deb8",
   "metadata": {},
   "outputs": [],
   "source": [
    "a=np.array([[5,6,7],[8,9,10],[4,5,6]])"
   ]
  },
  {
   "cell_type": "code",
   "execution_count": 56,
   "id": "aa6ca109",
   "metadata": {},
   "outputs": [
    {
     "data": {
      "text/plain": [
       "(3, 3)"
      ]
     },
     "execution_count": 56,
     "metadata": {},
     "output_type": "execute_result"
    }
   ],
   "source": [
    "a.shape"
   ]
  },
  {
   "cell_type": "code",
   "execution_count": 57,
   "id": "fd2464ea",
   "metadata": {},
   "outputs": [],
   "source": [
    "x3=np.array([[[[[5,6,7],[7,8,9]]]]])"
   ]
  },
  {
   "cell_type": "code",
   "execution_count": 58,
   "id": "27698acf",
   "metadata": {},
   "outputs": [
    {
     "data": {
      "text/plain": [
       "(1, 1, 1, 2, 3)"
      ]
     },
     "execution_count": 58,
     "metadata": {},
     "output_type": "execute_result"
    }
   ],
   "source": [
    "x3.shape"
   ]
  },
  {
   "cell_type": "code",
   "execution_count": 59,
   "id": "15a48445",
   "metadata": {},
   "outputs": [],
   "source": [
    "b=np.array([4,5,6,7,8,9,10,100])"
   ]
  },
  {
   "cell_type": "code",
   "execution_count": 61,
   "id": "5e1e7ad9",
   "metadata": {},
   "outputs": [
    {
     "data": {
      "text/plain": [
       "4"
      ]
     },
     "execution_count": 61,
     "metadata": {},
     "output_type": "execute_result"
    }
   ],
   "source": [
    "b[0]"
   ]
  },
  {
   "cell_type": "code",
   "execution_count": 62,
   "id": "9ec4a2ef",
   "metadata": {},
   "outputs": [
    {
     "data": {
      "text/plain": [
       "100"
      ]
     },
     "execution_count": 62,
     "metadata": {},
     "output_type": "execute_result"
    }
   ],
   "source": [
    "b[-1]"
   ]
  },
  {
   "cell_type": "code",
   "execution_count": 63,
   "id": "476deaf5",
   "metadata": {},
   "outputs": [
    {
     "data": {
      "text/plain": [
       "array([4, 5])"
      ]
     },
     "execution_count": 63,
     "metadata": {},
     "output_type": "execute_result"
    }
   ],
   "source": [
    "b[:2]"
   ]
  },
  {
   "cell_type": "code",
   "execution_count": 64,
   "id": "f0e13d88",
   "metadata": {},
   "outputs": [],
   "source": [
    "b[0]=100"
   ]
  },
  {
   "cell_type": "code",
   "execution_count": 65,
   "id": "fcfe6a85",
   "metadata": {},
   "outputs": [
    {
     "data": {
      "text/plain": [
       "array([100,   5,   6,   7,   8,   9,  10, 100])"
      ]
     },
     "execution_count": 65,
     "metadata": {},
     "output_type": "execute_result"
    }
   ],
   "source": [
    "b"
   ]
  },
  {
   "cell_type": "code",
   "execution_count": null,
   "id": "6af1aa8c",
   "metadata": {},
   "outputs": [],
   "source": []
  },
  {
   "cell_type": "markdown",
   "id": "b8687c16",
   "metadata": {},
   "source": [
    "# Advance function to create an array"
   ]
  },
  {
   "cell_type": "markdown",
   "id": "1235fe84",
   "metadata": {},
   "source": [
    "### 1.Zeros:-"
   ]
  },
  {
   "cell_type": "code",
   "execution_count": 8,
   "id": "1156cc41",
   "metadata": {},
   "outputs": [],
   "source": [
    "import numpy as np"
   ]
  },
  {
   "cell_type": "code",
   "execution_count": 9,
   "id": "844fccfc",
   "metadata": {},
   "outputs": [
    {
     "data": {
      "text/plain": [
       "array([[0, 0, 0],\n",
       "       [0, 0, 0],\n",
       "       [0, 0, 0],\n",
       "       [0, 0, 0]])"
      ]
     },
     "execution_count": 9,
     "metadata": {},
     "output_type": "execute_result"
    }
   ],
   "source": [
    "np.zeros((4,3),dtype=int)"
   ]
  },
  {
   "cell_type": "markdown",
   "id": "a60ca931",
   "metadata": {},
   "source": [
    "### 2.one's:-"
   ]
  },
  {
   "cell_type": "code",
   "execution_count": 2,
   "id": "7adc490c",
   "metadata": {},
   "outputs": [],
   "source": [
    "# one's is also a function we can create n dimentional object when all the elements will be one's"
   ]
  },
  {
   "cell_type": "code",
   "execution_count": null,
   "id": "43f7d259",
   "metadata": {},
   "outputs": [],
   "source": [
    "a1=np.ones()"
   ]
  },
  {
   "cell_type": "markdown",
   "id": "4b19b492",
   "metadata": {},
   "source": [
    "### 3.np.full():"
   ]
  },
  {
   "cell_type": "code",
   "execution_count": 3,
   "id": "72d27129",
   "metadata": {},
   "outputs": [],
   "source": [
    "# np.full((3,3),11,)if we want all with same numbers this in 3 rows and 3 columns"
   ]
  },
  {
   "cell_type": "code",
   "execution_count": 11,
   "id": "eb417d8d",
   "metadata": {},
   "outputs": [],
   "source": [
    "a3=np.full((3,4),81)"
   ]
  },
  {
   "cell_type": "markdown",
   "id": "756f1f7d",
   "metadata": {},
   "source": [
    "a3"
   ]
  },
  {
   "cell_type": "code",
   "execution_count": 12,
   "id": "adb4e97e",
   "metadata": {},
   "outputs": [
    {
     "data": {
      "text/plain": [
       "array([[81, 81, 81, 81],\n",
       "       [81, 81, 81, 81],\n",
       "       [81, 81, 81, 81]])"
      ]
     },
     "execution_count": 12,
     "metadata": {},
     "output_type": "execute_result"
    }
   ],
   "source": [
    "a3"
   ]
  },
  {
   "cell_type": "markdown",
   "id": "e2196404",
   "metadata": {},
   "source": [
    "### 4.np.eye():"
   ]
  },
  {
   "cell_type": "code",
   "execution_count": 5,
   "id": "cf303f7a",
   "metadata": {},
   "outputs": [],
   "source": [
    "# np.eye(10)"
   ]
  },
  {
   "cell_type": "code",
   "execution_count": 15,
   "id": "0dfef22d",
   "metadata": {},
   "outputs": [
    {
     "data": {
      "text/plain": [
       "array([[1, 0, 0],\n",
       "       [0, 1, 0],\n",
       "       [0, 0, 1]])"
      ]
     },
     "execution_count": 15,
     "metadata": {},
     "output_type": "execute_result"
    }
   ],
   "source": [
    "np.eye(3,dtype=int)"
   ]
  },
  {
   "cell_type": "markdown",
   "id": "6c4c4dc1",
   "metadata": {},
   "source": [
    "### 5.np.diag():"
   ]
  },
  {
   "cell_type": "code",
   "execution_count": 6,
   "id": "9eb51897",
   "metadata": {},
   "outputs": [],
   "source": [
    "# np.diag([2,3,4,5])"
   ]
  },
  {
   "cell_type": "code",
   "execution_count": 17,
   "id": "71cea6c1",
   "metadata": {},
   "outputs": [],
   "source": [
    "q=np.diag([10,11,12])"
   ]
  },
  {
   "cell_type": "code",
   "execution_count": 18,
   "id": "d393e437",
   "metadata": {},
   "outputs": [
    {
     "data": {
      "text/plain": [
       "array([[10,  0,  0],\n",
       "       [ 0, 11,  0],\n",
       "       [ 0,  0, 12]])"
      ]
     },
     "execution_count": 18,
     "metadata": {},
     "output_type": "execute_result"
    }
   ],
   "source": [
    "q"
   ]
  },
  {
   "cell_type": "code",
   "execution_count": 19,
   "id": "a2491316",
   "metadata": {},
   "outputs": [
    {
     "data": {
      "text/plain": [
       "array([10, 11, 12])"
      ]
     },
     "execution_count": 19,
     "metadata": {},
     "output_type": "execute_result"
    }
   ],
   "source": [
    "np.diag(q)"
   ]
  },
  {
   "cell_type": "code",
   "execution_count": null,
   "id": "3bfd3c41",
   "metadata": {},
   "outputs": [],
   "source": []
  },
  {
   "cell_type": "markdown",
   "id": "ac1e885a",
   "metadata": {},
   "source": [
    "### 6.np.arange():"
   ]
  },
  {
   "cell_type": "code",
   "execution_count": null,
   "id": "39194283",
   "metadata": {},
   "outputs": [],
   "source": []
  },
  {
   "cell_type": "code",
   "execution_count": 21,
   "id": "8627625a",
   "metadata": {},
   "outputs": [],
   "source": [
    "f=np.arange(10,21)"
   ]
  },
  {
   "cell_type": "code",
   "execution_count": 22,
   "id": "e6f6a651",
   "metadata": {},
   "outputs": [
    {
     "data": {
      "text/plain": [
       "array([10, 11, 12, 13, 14, 15, 16, 17, 18, 19, 20])"
      ]
     },
     "execution_count": 22,
     "metadata": {},
     "output_type": "execute_result"
    }
   ],
   "source": [
    "f"
   ]
  },
  {
   "cell_type": "code",
   "execution_count": 23,
   "id": "20fd7a1b",
   "metadata": {},
   "outputs": [
    {
     "data": {
      "text/plain": [
       "1"
      ]
     },
     "execution_count": 23,
     "metadata": {},
     "output_type": "execute_result"
    }
   ],
   "source": [
    "f.ndim"
   ]
  },
  {
   "cell_type": "code",
   "execution_count": 24,
   "id": "8f1684d9",
   "metadata": {},
   "outputs": [
    {
     "data": {
      "text/plain": [
       "(11,)"
      ]
     },
     "execution_count": 24,
     "metadata": {},
     "output_type": "execute_result"
    }
   ],
   "source": [
    "f.shape"
   ]
  },
  {
   "cell_type": "code",
   "execution_count": 25,
   "id": "a95572ac",
   "metadata": {},
   "outputs": [
    {
     "data": {
      "text/plain": [
       "array([10, 12, 14, 16, 18, 20])"
      ]
     },
     "execution_count": 25,
     "metadata": {},
     "output_type": "execute_result"
    }
   ],
   "source": [
    "np.arange(10,21,2)"
   ]
  },
  {
   "cell_type": "code",
   "execution_count": 26,
   "id": "dbaefd70",
   "metadata": {},
   "outputs": [
    {
     "data": {
      "text/plain": [
       "array([10, 13, 16, 19])"
      ]
     },
     "execution_count": 26,
     "metadata": {},
     "output_type": "execute_result"
    }
   ],
   "source": [
    "np.arange(10,21,3)"
   ]
  },
  {
   "cell_type": "code",
   "execution_count": 28,
   "id": "daec5d22",
   "metadata": {},
   "outputs": [
    {
     "data": {
      "text/plain": [
       "'fedcba'"
      ]
     },
     "execution_count": 28,
     "metadata": {},
     "output_type": "execute_result"
    }
   ],
   "source": [
    "# reverse the value\n",
    "\n",
    "x=\"abcdef\"\n",
    "x[::-1]"
   ]
  },
  {
   "cell_type": "code",
   "execution_count": 29,
   "id": "dd30e102",
   "metadata": {},
   "outputs": [
    {
     "name": "stdout",
     "output_type": "stream",
     "text": [
      "f\n",
      "e\n",
      "d\n",
      "c\n",
      "b\n",
      "a\n"
     ]
    }
   ],
   "source": [
    "for y in x[::-1]:\n",
    "    print(y)"
   ]
  },
  {
   "cell_type": "code",
   "execution_count": 53,
   "id": "7205f147",
   "metadata": {},
   "outputs": [
    {
     "name": "stdout",
     "output_type": "stream",
     "text": [
      "1\n",
      "4\n",
      "7\n"
     ]
    }
   ],
   "source": [
    "for y in range(1,10,3):\n",
    "    print(y)"
   ]
  },
  {
   "cell_type": "code",
   "execution_count": 31,
   "id": "db55ca33",
   "metadata": {},
   "outputs": [
    {
     "name": "stdout",
     "output_type": "stream",
     "text": [
      "f\n",
      "e\n",
      "d\n",
      "c\n",
      "b\n",
      "a\n"
     ]
    }
   ],
   "source": [
    "for y in range(len(x)-1,-1,-1):\n",
    "    print(x[y])"
   ]
  },
  {
   "cell_type": "code",
   "execution_count": null,
   "id": "1e71b21c",
   "metadata": {},
   "outputs": [],
   "source": []
  },
  {
   "cell_type": "markdown",
   "id": "251b39b0",
   "metadata": {},
   "source": [
    "### 7.linspace:-"
   ]
  },
  {
   "cell_type": "code",
   "execution_count": null,
   "id": "2a2b0c3c",
   "metadata": {},
   "outputs": [],
   "source": []
  },
  {
   "cell_type": "code",
   "execution_count": 33,
   "id": "72f5e1eb",
   "metadata": {},
   "outputs": [
    {
     "data": {
      "text/plain": [
       "array([ 1., 10.])"
      ]
     },
     "execution_count": 33,
     "metadata": {},
     "output_type": "execute_result"
    }
   ],
   "source": [
    "np.linspace(1,10,2)"
   ]
  },
  {
   "cell_type": "code",
   "execution_count": 34,
   "id": "f0ade8f3",
   "metadata": {},
   "outputs": [
    {
     "data": {
      "text/plain": [
       "array([ 1. ,  5.5, 10. ])"
      ]
     },
     "execution_count": 34,
     "metadata": {},
     "output_type": "execute_result"
    }
   ],
   "source": [
    "np.linspace(1,10,3)"
   ]
  },
  {
   "cell_type": "code",
   "execution_count": 35,
   "id": "dae61640",
   "metadata": {},
   "outputs": [
    {
     "data": {
      "text/plain": [
       "array([ 1,  1,  1,  1,  1,  1,  2,  2,  2,  2,  2,  3,  3,  3,  3,  3,  3,\n",
       "        4,  4,  4,  4,  4,  5,  5,  5,  5,  5,  5,  6,  6,  6,  6,  6,  7,\n",
       "        7,  7,  7,  7,  7,  8,  8,  8,  8,  8,  9,  9,  9,  9,  9, 10])"
      ]
     },
     "execution_count": 35,
     "metadata": {},
     "output_type": "execute_result"
    }
   ],
   "source": [
    "np.linspace(1,10,dtype=int)"
   ]
  },
  {
   "cell_type": "markdown",
   "id": "4ce2d251",
   "metadata": {},
   "source": [
    " this is not a function it is a module\n",
    "\n"
   ]
  },
  {
   "cell_type": "markdown",
   "id": "8b28a268",
   "metadata": {},
   "source": []
  },
  {
   "cell_type": "code",
   "execution_count": 37,
   "id": "e9fcc56d",
   "metadata": {},
   "outputs": [
    {
     "data": {
      "text/plain": [
       "array([[0.88256493, 0.83490665, 0.14086979],\n",
       "       [0.47760458, 0.07316543, 0.43816064]])"
      ]
     },
     "execution_count": 37,
     "metadata": {},
     "output_type": "execute_result"
    }
   ],
   "source": [
    "np.random.random((2,3))"
   ]
  },
  {
   "cell_type": "code",
   "execution_count": 38,
   "id": "8cfd1040",
   "metadata": {},
   "outputs": [],
   "source": [
    "import time"
   ]
  },
  {
   "cell_type": "code",
   "execution_count": 39,
   "id": "13b28be0",
   "metadata": {},
   "outputs": [
    {
     "name": "stdout",
     "output_type": "stream",
     "text": [
      "0.04694199562072754\n"
     ]
    }
   ],
   "source": [
    "x=time.time()\n",
    "y=np.arange(1,10000000)*2\n",
    "z=time.time()\n",
    "print(z-x)"
   ]
  },
  {
   "cell_type": "code",
   "execution_count": 40,
   "id": "a02a5e04",
   "metadata": {},
   "outputs": [
    {
     "name": "stdout",
     "output_type": "stream",
     "text": [
      "3.0938868522644043\n"
     ]
    }
   ],
   "source": [
    "x=time.time()\n",
    "l=[]\n",
    "for y in range(1,10000000):\n",
    "    l.append(y*2)\n",
    "z=time.time()\n",
    "print(z-x)"
   ]
  },
  {
   "cell_type": "markdown",
   "id": "f7267eac",
   "metadata": {},
   "source": [
    "### acces the elements inside an n dimentional array"
   ]
  },
  {
   "cell_type": "code",
   "execution_count": 41,
   "id": "e9db09d1",
   "metadata": {},
   "outputs": [],
   "source": [
    "#n=1"
   ]
  },
  {
   "cell_type": "code",
   "execution_count": 42,
   "id": "df1756d0",
   "metadata": {},
   "outputs": [],
   "source": [
    "x=np.arange(1,9)"
   ]
  },
  {
   "cell_type": "code",
   "execution_count": 43,
   "id": "a8c9b459",
   "metadata": {},
   "outputs": [
    {
     "data": {
      "text/plain": [
       "array([1, 2, 3, 4, 5, 6, 7, 8])"
      ]
     },
     "execution_count": 43,
     "metadata": {},
     "output_type": "execute_result"
    }
   ],
   "source": [
    "x"
   ]
  },
  {
   "cell_type": "code",
   "execution_count": 44,
   "id": "68b3f364",
   "metadata": {},
   "outputs": [
    {
     "data": {
      "text/plain": [
       "1"
      ]
     },
     "execution_count": 44,
     "metadata": {},
     "output_type": "execute_result"
    }
   ],
   "source": [
    "x[0]"
   ]
  },
  {
   "cell_type": "code",
   "execution_count": 45,
   "id": "a5e41a45",
   "metadata": {},
   "outputs": [
    {
     "data": {
      "text/plain": [
       "8"
      ]
     },
     "execution_count": 45,
     "metadata": {},
     "output_type": "execute_result"
    }
   ],
   "source": [
    "x[-1]"
   ]
  },
  {
   "cell_type": "code",
   "execution_count": 46,
   "id": "0dad095b",
   "metadata": {},
   "outputs": [],
   "source": [
    "#n=2"
   ]
  },
  {
   "cell_type": "code",
   "execution_count": 47,
   "id": "48441737",
   "metadata": {},
   "outputs": [],
   "source": [
    "z=np.random.random((3,4))"
   ]
  },
  {
   "cell_type": "code",
   "execution_count": 48,
   "id": "91c2d1b5",
   "metadata": {},
   "outputs": [
    {
     "data": {
      "text/plain": [
       "array([[0.13415455, 0.96023201, 0.5252351 , 0.27847626],\n",
       "       [0.84900967, 0.93927577, 0.96002134, 0.61884704],\n",
       "       [0.95920503, 0.55547598, 0.41117497, 0.53527163]])"
      ]
     },
     "execution_count": 48,
     "metadata": {},
     "output_type": "execute_result"
    }
   ],
   "source": [
    "z"
   ]
  },
  {
   "cell_type": "code",
   "execution_count": 1,
   "id": "a9047021",
   "metadata": {},
   "outputs": [],
   "source": [
    "import numpy as np"
   ]
  },
  {
   "cell_type": "code",
   "execution_count": 2,
   "id": "f92de026",
   "metadata": {},
   "outputs": [],
   "source": [
    "x=np.arange(1,10)"
   ]
  },
  {
   "cell_type": "code",
   "execution_count": 3,
   "id": "f4f0f7fc",
   "metadata": {},
   "outputs": [
    {
     "data": {
      "text/plain": [
       "array([1, 2, 3, 4, 5, 6, 7, 8, 9])"
      ]
     },
     "execution_count": 3,
     "metadata": {},
     "output_type": "execute_result"
    }
   ],
   "source": [
    "x"
   ]
  },
  {
   "cell_type": "code",
   "execution_count": 4,
   "id": "6491d66f",
   "metadata": {},
   "outputs": [
    {
     "data": {
      "text/plain": [
       "(9,)"
      ]
     },
     "execution_count": 4,
     "metadata": {},
     "output_type": "execute_result"
    }
   ],
   "source": [
    "x.shape"
   ]
  },
  {
   "cell_type": "code",
   "execution_count": 5,
   "id": "116768cf",
   "metadata": {},
   "outputs": [],
   "source": [
    "y=x.reshape(3,3)"
   ]
  },
  {
   "cell_type": "code",
   "execution_count": 6,
   "id": "ab6cd10a",
   "metadata": {},
   "outputs": [
    {
     "data": {
      "text/plain": [
       "array([[1, 2, 3],\n",
       "       [4, 5, 6],\n",
       "       [7, 8, 9]])"
      ]
     },
     "execution_count": 6,
     "metadata": {},
     "output_type": "execute_result"
    }
   ],
   "source": [
    "y"
   ]
  },
  {
   "cell_type": "code",
   "execution_count": null,
   "id": "75fd7b1a",
   "metadata": {},
   "outputs": [],
   "source": []
  },
  {
   "cell_type": "markdown",
   "id": "a321862d",
   "metadata": {},
   "source": [
    "# Accessing elements in 2 dimentional arrays"
   ]
  },
  {
   "cell_type": "markdown",
   "id": "e9bbf1f8",
   "metadata": {},
   "source": [
    "## they are 3 types:"
   ]
  },
  {
   "cell_type": "markdown",
   "id": "64d668b5",
   "metadata": {},
   "source": [
    "### 1. intiger based indexing   2. slicing based indexing    3. boolean based indexing"
   ]
  },
  {
   "cell_type": "markdown",
   "id": "f88438d2",
   "metadata": {},
   "source": [
    "### 1.slicing based indexing"
   ]
  },
  {
   "cell_type": "markdown",
   "id": "58bbaba5",
   "metadata": {},
   "source": [
    "#### whenever we are getting from the original array with the help of sub array"
   ]
  },
  {
   "cell_type": "markdown",
   "id": "a0397477",
   "metadata": {},
   "source": [
    "#### sub array and original array in the same dimention"
   ]
  },
  {
   "cell_type": "code",
   "execution_count": 7,
   "id": "bd92c7a4",
   "metadata": {},
   "outputs": [
    {
     "data": {
      "text/plain": [
       "array([[1, 2, 3]])"
      ]
     },
     "execution_count": 7,
     "metadata": {},
     "output_type": "execute_result"
    }
   ],
   "source": [
    "y[0:1,0:]"
   ]
  },
  {
   "cell_type": "code",
   "execution_count": 8,
   "id": "5d91c677",
   "metadata": {},
   "outputs": [
    {
     "data": {
      "text/plain": [
       "array([[4, 5, 6],\n",
       "       [7, 8, 9]])"
      ]
     },
     "execution_count": 8,
     "metadata": {},
     "output_type": "execute_result"
    }
   ],
   "source": [
    "y[1:,0:]"
   ]
  },
  {
   "cell_type": "code",
   "execution_count": 10,
   "id": "28e37dd7",
   "metadata": {},
   "outputs": [],
   "source": [
    "z=np.arange(1,21).reshape(5,4)"
   ]
  },
  {
   "cell_type": "code",
   "execution_count": 11,
   "id": "8195db2b",
   "metadata": {},
   "outputs": [
    {
     "data": {
      "text/plain": [
       "array([[ 1,  2,  3,  4],\n",
       "       [ 5,  6,  7,  8],\n",
       "       [ 9, 10, 11, 12],\n",
       "       [13, 14, 15, 16],\n",
       "       [17, 18, 19, 20]])"
      ]
     },
     "execution_count": 11,
     "metadata": {},
     "output_type": "execute_result"
    }
   ],
   "source": [
    "z"
   ]
  },
  {
   "cell_type": "code",
   "execution_count": 12,
   "id": "7e3ed5f7",
   "metadata": {},
   "outputs": [
    {
     "data": {
      "text/plain": [
       "array([[ 6,  7],\n",
       "       [10, 11]])"
      ]
     },
     "execution_count": 12,
     "metadata": {},
     "output_type": "execute_result"
    }
   ],
   "source": [
    "z[1:3,1:3]"
   ]
  },
  {
   "cell_type": "code",
   "execution_count": 13,
   "id": "b7745030",
   "metadata": {},
   "outputs": [],
   "source": [
    "z[0,0]=1000"
   ]
  },
  {
   "cell_type": "code",
   "execution_count": 14,
   "id": "94039f40",
   "metadata": {},
   "outputs": [
    {
     "data": {
      "text/plain": [
       "array([[1000,    2,    3,    4],\n",
       "       [   5,    6,    7,    8],\n",
       "       [   9,   10,   11,   12],\n",
       "       [  13,   14,   15,   16],\n",
       "       [  17,   18,   19,   20]])"
      ]
     },
     "execution_count": 14,
     "metadata": {},
     "output_type": "execute_result"
    }
   ],
   "source": [
    "z"
   ]
  },
  {
   "cell_type": "markdown",
   "id": "4367efda",
   "metadata": {},
   "source": [
    "### 2. intiger based indexing"
   ]
  },
  {
   "cell_type": "code",
   "execution_count": 15,
   "id": "a535cd73",
   "metadata": {},
   "outputs": [
    {
     "data": {
      "text/plain": [
       "array([  11,   12, 1000])"
      ]
     },
     "execution_count": 15,
     "metadata": {},
     "output_type": "execute_result"
    }
   ],
   "source": [
    "z[[2,2,0],[2,3,0]]"
   ]
  },
  {
   "cell_type": "markdown",
   "id": "5415097e",
   "metadata": {},
   "source": [
    "#### intiger based indexing can choose any position\n",
    "\n"
   ]
  },
  {
   "cell_type": "markdown",
   "id": "9234d3e5",
   "metadata": {},
   "source": [
    "#### the sub array copy the original array"
   ]
  },
  {
   "cell_type": "markdown",
   "id": "61d9517f",
   "metadata": {},
   "source": [
    "#### whenever you getting sub array lower dimention"
   ]
  },
  {
   "cell_type": "markdown",
   "id": "69e20604",
   "metadata": {},
   "source": [
    "## how apply mathematical operations to an array"
   ]
  },
  {
   "cell_type": "markdown",
   "id": "de64cb9a",
   "metadata": {},
   "source": [
    "### +,-,/,*, will be performed element wise"
   ]
  },
  {
   "cell_type": "code",
   "execution_count": 18,
   "id": "65df8c3f",
   "metadata": {},
   "outputs": [],
   "source": [
    "a=np.arange(1,9).reshape(4,2)"
   ]
  },
  {
   "cell_type": "code",
   "execution_count": 19,
   "id": "c60e7cce",
   "metadata": {},
   "outputs": [
    {
     "data": {
      "text/plain": [
       "array([[1, 2],\n",
       "       [3, 4],\n",
       "       [5, 6],\n",
       "       [7, 8]])"
      ]
     },
     "execution_count": 19,
     "metadata": {},
     "output_type": "execute_result"
    }
   ],
   "source": [
    "a"
   ]
  },
  {
   "cell_type": "code",
   "execution_count": 20,
   "id": "ed108166",
   "metadata": {},
   "outputs": [],
   "source": [
    "b=np.arange(9,17).reshape(4,2)"
   ]
  },
  {
   "cell_type": "code",
   "execution_count": 21,
   "id": "5a6879ea",
   "metadata": {},
   "outputs": [
    {
     "data": {
      "text/plain": [
       "array([[ 9, 10],\n",
       "       [11, 12],\n",
       "       [13, 14],\n",
       "       [15, 16]])"
      ]
     },
     "execution_count": 21,
     "metadata": {},
     "output_type": "execute_result"
    }
   ],
   "source": [
    "b"
   ]
  },
  {
   "cell_type": "code",
   "execution_count": 22,
   "id": "d5f65556",
   "metadata": {},
   "outputs": [],
   "source": [
    "c=np.add(a,b)"
   ]
  },
  {
   "cell_type": "code",
   "execution_count": 23,
   "id": "f494bee0",
   "metadata": {},
   "outputs": [
    {
     "data": {
      "text/plain": [
       "array([[10, 12],\n",
       "       [14, 16],\n",
       "       [18, 20],\n",
       "       [22, 24]])"
      ]
     },
     "execution_count": 23,
     "metadata": {},
     "output_type": "execute_result"
    }
   ],
   "source": [
    "c"
   ]
  },
  {
   "cell_type": "code",
   "execution_count": 24,
   "id": "4ffb3ebb",
   "metadata": {},
   "outputs": [],
   "source": [
    "d=np.multiply(a,b)"
   ]
  },
  {
   "cell_type": "code",
   "execution_count": 25,
   "id": "c4dd8aa0",
   "metadata": {},
   "outputs": [
    {
     "data": {
      "text/plain": [
       "array([[  9,  20],\n",
       "       [ 33,  48],\n",
       "       [ 65,  84],\n",
       "       [105, 128]])"
      ]
     },
     "execution_count": 25,
     "metadata": {},
     "output_type": "execute_result"
    }
   ],
   "source": [
    "d"
   ]
  },
  {
   "cell_type": "code",
   "execution_count": 26,
   "id": "a149d2f7",
   "metadata": {},
   "outputs": [],
   "source": [
    "e=np.subtract(a,b)"
   ]
  },
  {
   "cell_type": "code",
   "execution_count": 27,
   "id": "ba6d9370",
   "metadata": {},
   "outputs": [
    {
     "data": {
      "text/plain": [
       "array([[-8, -8],\n",
       "       [-8, -8],\n",
       "       [-8, -8],\n",
       "       [-8, -8]])"
      ]
     },
     "execution_count": 27,
     "metadata": {},
     "output_type": "execute_result"
    }
   ],
   "source": [
    "e"
   ]
  },
  {
   "cell_type": "code",
   "execution_count": 39,
   "id": "66afa172",
   "metadata": {},
   "outputs": [],
   "source": [
    "# comparision operators ---  >,<,<=,>= etc are also performed element wise"
   ]
  },
  {
   "cell_type": "code",
   "execution_count": 42,
   "id": "579fe5dc",
   "metadata": {},
   "outputs": [],
   "source": [
    "x=np.full((9,2),11)"
   ]
  },
  {
   "cell_type": "code",
   "execution_count": 43,
   "id": "2f80492b",
   "metadata": {},
   "outputs": [
    {
     "data": {
      "text/plain": [
       "array([[11, 11],\n",
       "       [11, 11],\n",
       "       [11, 11],\n",
       "       [11, 11],\n",
       "       [11, 11],\n",
       "       [11, 11],\n",
       "       [11, 11],\n",
       "       [11, 11],\n",
       "       [11, 11]])"
      ]
     },
     "execution_count": 43,
     "metadata": {},
     "output_type": "execute_result"
    }
   ],
   "source": [
    "x"
   ]
  },
  {
   "cell_type": "code",
   "execution_count": null,
   "id": "a388487f",
   "metadata": {},
   "outputs": [],
   "source": []
  },
  {
   "cell_type": "markdown",
   "id": "8a367e2f",
   "metadata": {},
   "source": [
    "### 3.boolean based indexing"
   ]
  },
  {
   "cell_type": "markdown",
   "id": "e340d807",
   "metadata": {},
   "source": [
    "#### based on condition.true or false"
   ]
  },
  {
   "cell_type": "code",
   "execution_count": null,
   "id": "adef35c0",
   "metadata": {},
   "outputs": [],
   "source": [
    "# it creates copy of an array"
   ]
  },
  {
   "cell_type": "code",
   "execution_count": 29,
   "id": "a97291e4",
   "metadata": {},
   "outputs": [
    {
     "data": {
      "text/plain": [
       "array([[ True,  True],\n",
       "       [ True,  True],\n",
       "       [ True,  True],\n",
       "       [ True,  True]])"
      ]
     },
     "execution_count": 29,
     "metadata": {},
     "output_type": "execute_result"
    }
   ],
   "source": [
    "d>e"
   ]
  },
  {
   "cell_type": "code",
   "execution_count": 30,
   "id": "1451948b",
   "metadata": {},
   "outputs": [
    {
     "data": {
      "text/plain": [
       "array([[False, False],\n",
       "       [False, False],\n",
       "       [False, False],\n",
       "       [False, False]])"
      ]
     },
     "execution_count": 30,
     "metadata": {},
     "output_type": "execute_result"
    }
   ],
   "source": [
    "c<b"
   ]
  },
  {
   "cell_type": "code",
   "execution_count": 31,
   "id": "5af7b73a",
   "metadata": {},
   "outputs": [
    {
     "data": {
      "text/plain": [
       "array([[False, False],\n",
       "       [False, False],\n",
       "       [False, False],\n",
       "       [False, False]])"
      ]
     },
     "execution_count": 31,
     "metadata": {},
     "output_type": "execute_result"
    }
   ],
   "source": [
    "b<e"
   ]
  },
  {
   "cell_type": "code",
   "execution_count": 32,
   "id": "10868f8d",
   "metadata": {},
   "outputs": [
    {
     "data": {
      "text/plain": [
       "array([[ True,  True],\n",
       "       [ True,  True],\n",
       "       [ True,  True],\n",
       "       [ True,  True]])"
      ]
     },
     "execution_count": 32,
     "metadata": {},
     "output_type": "execute_result"
    }
   ],
   "source": [
    "b>e"
   ]
  },
  {
   "cell_type": "code",
   "execution_count": 33,
   "id": "5b217629",
   "metadata": {},
   "outputs": [
    {
     "data": {
      "text/plain": [
       "array([[False, False],\n",
       "       [False, False],\n",
       "       [False, False],\n",
       "       [False, False]])"
      ]
     },
     "execution_count": 33,
     "metadata": {},
     "output_type": "execute_result"
    }
   ],
   "source": [
    "b<=e"
   ]
  },
  {
   "cell_type": "code",
   "execution_count": 34,
   "id": "4a46e588",
   "metadata": {},
   "outputs": [
    {
     "data": {
      "text/plain": [
       "array([ 20,  48,  84, 128])"
      ]
     },
     "execution_count": 34,
     "metadata": {},
     "output_type": "execute_result"
    }
   ],
   "source": [
    "d[d%2==0]"
   ]
  },
  {
   "cell_type": "code",
   "execution_count": 35,
   "id": "9cb53c85",
   "metadata": {},
   "outputs": [
    {
     "data": {
      "text/plain": [
       "array([[  9,  20],\n",
       "       [ 33,  48],\n",
       "       [ 65,  84],\n",
       "       [105, 128]])"
      ]
     },
     "execution_count": 35,
     "metadata": {},
     "output_type": "execute_result"
    }
   ],
   "source": [
    "d"
   ]
  },
  {
   "cell_type": "code",
   "execution_count": 36,
   "id": "7e0133ea",
   "metadata": {},
   "outputs": [
    {
     "data": {
      "text/plain": [
       "array([[False,  True],\n",
       "       [False, False],\n",
       "       [ True,  True],\n",
       "       [ True, False]])"
      ]
     },
     "execution_count": 36,
     "metadata": {},
     "output_type": "execute_result"
    }
   ],
   "source": [
    "(d%5==0) | (d%7==0) # |-->or   "
   ]
  },
  {
   "cell_type": "code",
   "execution_count": 37,
   "id": "56053d0b",
   "metadata": {},
   "outputs": [
    {
     "data": {
      "text/plain": [
       "array([[False, False],\n",
       "       [False, False],\n",
       "       [False, False],\n",
       "       [ True, False]])"
      ]
     },
     "execution_count": 37,
     "metadata": {},
     "output_type": "execute_result"
    }
   ],
   "source": [
    "(d%5==0) & (d%7==0)  # &---> and"
   ]
  },
  {
   "cell_type": "code",
   "execution_count": null,
   "id": "886c843f",
   "metadata": {},
   "outputs": [],
   "source": []
  },
  {
   "cell_type": "code",
   "execution_count": null,
   "id": "fd0b9232",
   "metadata": {},
   "outputs": [],
   "source": []
  },
  {
   "cell_type": "code",
   "execution_count": 113,
   "id": "888c144c",
   "metadata": {},
   "outputs": [],
   "source": [
    "import numpy as np"
   ]
  },
  {
   "cell_type": "code",
   "execution_count": 114,
   "id": "ff4336c3",
   "metadata": {},
   "outputs": [],
   "source": [
    "# np.any()\n",
    "# np.all()"
   ]
  },
  {
   "cell_type": "code",
   "execution_count": 115,
   "id": "375a201d",
   "metadata": {},
   "outputs": [
    {
     "ename": "ValueError",
     "evalue": "cannot reshape array of size 20 into shape (3,4)",
     "output_type": "error",
     "traceback": [
      "\u001b[1;31m---------------------------------------------------------------------------\u001b[0m",
      "\u001b[1;31mValueError\u001b[0m                                Traceback (most recent call last)",
      "\u001b[1;32m~\\AppData\\Local\\Temp\\ipykernel_19916\\3855724868.py\u001b[0m in \u001b[0;36m<module>\u001b[1;34m\u001b[0m\n\u001b[1;32m----> 1\u001b[1;33m \u001b[0mx\u001b[0m\u001b[1;33m=\u001b[0m\u001b[0mnp\u001b[0m\u001b[1;33m.\u001b[0m\u001b[0marange\u001b[0m\u001b[1;33m(\u001b[0m\u001b[1;36m1\u001b[0m\u001b[1;33m,\u001b[0m\u001b[1;36m21\u001b[0m\u001b[1;33m)\u001b[0m\u001b[1;33m.\u001b[0m\u001b[0mreshape\u001b[0m\u001b[1;33m(\u001b[0m\u001b[1;36m3\u001b[0m\u001b[1;33m,\u001b[0m\u001b[1;36m4\u001b[0m\u001b[1;33m)\u001b[0m\u001b[1;33m\u001b[0m\u001b[1;33m\u001b[0m\u001b[0m\n\u001b[0m",
      "\u001b[1;31mValueError\u001b[0m: cannot reshape array of size 20 into shape (3,4)"
     ]
    }
   ],
   "source": [
    "x=np.arange(1,21).reshape(3,4)"
   ]
  },
  {
   "cell_type": "code",
   "execution_count": null,
   "id": "462789ea",
   "metadata": {},
   "outputs": [],
   "source": []
  },
  {
   "cell_type": "code",
   "execution_count": null,
   "id": "9dd6531b",
   "metadata": {},
   "outputs": [],
   "source": []
  },
  {
   "cell_type": "markdown",
   "id": "674f5171",
   "metadata": {},
   "source": [
    "# *---- Dot product"
   ]
  },
  {
   "cell_type": "code",
   "execution_count": null,
   "id": "54581572",
   "metadata": {},
   "outputs": [],
   "source": []
  },
  {
   "cell_type": "code",
   "execution_count": 116,
   "id": "e23ef92c",
   "metadata": {},
   "outputs": [],
   "source": [
    "x=np.arange(0,6).reshape(3,2)"
   ]
  },
  {
   "cell_type": "code",
   "execution_count": 117,
   "id": "415f6e51",
   "metadata": {},
   "outputs": [],
   "source": [
    "y=np.arange(0,6).reshape(3,2)"
   ]
  },
  {
   "cell_type": "code",
   "execution_count": 118,
   "id": "d017d4c4",
   "metadata": {},
   "outputs": [
    {
     "data": {
      "text/plain": [
       "array([[0, 1],\n",
       "       [2, 3],\n",
       "       [4, 5]])"
      ]
     },
     "execution_count": 118,
     "metadata": {},
     "output_type": "execute_result"
    }
   ],
   "source": [
    "x"
   ]
  },
  {
   "cell_type": "code",
   "execution_count": 119,
   "id": "27d39801",
   "metadata": {},
   "outputs": [
    {
     "data": {
      "text/plain": [
       "array([[0, 1],\n",
       "       [2, 3],\n",
       "       [4, 5]])"
      ]
     },
     "execution_count": 119,
     "metadata": {},
     "output_type": "execute_result"
    }
   ],
   "source": [
    "y"
   ]
  },
  {
   "cell_type": "code",
   "execution_count": 120,
   "id": "806cc55d",
   "metadata": {},
   "outputs": [
    {
     "data": {
      "text/plain": [
       "array([[ 0,  1],\n",
       "       [ 4,  9],\n",
       "       [16, 25]])"
      ]
     },
     "execution_count": 120,
     "metadata": {},
     "output_type": "execute_result"
    }
   ],
   "source": [
    "x*y"
   ]
  },
  {
   "cell_type": "code",
   "execution_count": 121,
   "id": "be94e1f2",
   "metadata": {},
   "outputs": [
    {
     "data": {
      "text/plain": [
       "array([[0, 2, 4],\n",
       "       [1, 3, 5]])"
      ]
     },
     "execution_count": 121,
     "metadata": {},
     "output_type": "execute_result"
    }
   ],
   "source": [
    "y.T"
   ]
  },
  {
   "cell_type": "code",
   "execution_count": 122,
   "id": "707babf7",
   "metadata": {},
   "outputs": [
    {
     "data": {
      "text/plain": [
       "array([[ 1,  3,  5],\n",
       "       [ 3, 13, 23],\n",
       "       [ 5, 23, 41]])"
      ]
     },
     "execution_count": 122,
     "metadata": {},
     "output_type": "execute_result"
    }
   ],
   "source": [
    "np.dot(x,y.T)"
   ]
  },
  {
   "cell_type": "markdown",
   "id": "5eb755f3",
   "metadata": {},
   "source": [
    "# Reduction functions:"
   ]
  },
  {
   "cell_type": "markdown",
   "id": "90d9a013",
   "metadata": {},
   "source": [
    "### 1.sum:()"
   ]
  },
  {
   "cell_type": "code",
   "execution_count": null,
   "id": "d0cf584d",
   "metadata": {},
   "outputs": [],
   "source": []
  },
  {
   "cell_type": "code",
   "execution_count": 123,
   "id": "39f15347",
   "metadata": {},
   "outputs": [],
   "source": [
    "# sum()-- it will sum all the values inside a array"
   ]
  },
  {
   "cell_type": "code",
   "execution_count": 124,
   "id": "117faeeb",
   "metadata": {},
   "outputs": [],
   "source": [
    "x2=np.arange(0,9).reshape(3,3)"
   ]
  },
  {
   "cell_type": "code",
   "execution_count": 125,
   "id": "4b0de765",
   "metadata": {},
   "outputs": [
    {
     "data": {
      "text/plain": [
       "array([[0, 1, 2],\n",
       "       [3, 4, 5],\n",
       "       [6, 7, 8]])"
      ]
     },
     "execution_count": 125,
     "metadata": {},
     "output_type": "execute_result"
    }
   ],
   "source": [
    "x2"
   ]
  },
  {
   "cell_type": "code",
   "execution_count": 126,
   "id": "b975da86",
   "metadata": {},
   "outputs": [
    {
     "data": {
      "text/plain": [
       "36"
      ]
     },
     "execution_count": 126,
     "metadata": {},
     "output_type": "execute_result"
    }
   ],
   "source": [
    "np.sum(x2)"
   ]
  },
  {
   "cell_type": "code",
   "execution_count": 127,
   "id": "ec1adeb3",
   "metadata": {},
   "outputs": [
    {
     "data": {
      "text/plain": [
       "array([ 9, 12, 15])"
      ]
     },
     "execution_count": 127,
     "metadata": {},
     "output_type": "execute_result"
    }
   ],
   "source": [
    "np.sum(x2,axis=0)  # 0--colimn\n",
    "# it will give you column wise total"
   ]
  },
  {
   "cell_type": "code",
   "execution_count": 128,
   "id": "f20cf3a5",
   "metadata": {},
   "outputs": [
    {
     "data": {
      "text/plain": [
       "array([ 3, 12, 21])"
      ]
     },
     "execution_count": 128,
     "metadata": {},
     "output_type": "execute_result"
    }
   ],
   "source": [
    "np.sum(x2,axis=1)   # 1--rows\n",
    "# it will give you row wise total"
   ]
  },
  {
   "cell_type": "markdown",
   "id": "a8236ce2",
   "metadata": {},
   "source": [
    "### 2.prod:()"
   ]
  },
  {
   "cell_type": "markdown",
   "id": "4e9ce1b5",
   "metadata": {},
   "source": [
    "#### it will return the product of vazlues in array"
   ]
  },
  {
   "cell_type": "code",
   "execution_count": 129,
   "id": "a01b7722",
   "metadata": {},
   "outputs": [
    {
     "data": {
      "text/plain": [
       "0"
      ]
     },
     "execution_count": 129,
     "metadata": {},
     "output_type": "execute_result"
    }
   ],
   "source": [
    "np.prod(x2)"
   ]
  },
  {
   "cell_type": "code",
   "execution_count": 130,
   "id": "2da58d5a",
   "metadata": {},
   "outputs": [
    {
     "data": {
      "text/plain": [
       "array([ 0, 28, 80])"
      ]
     },
     "execution_count": 130,
     "metadata": {},
     "output_type": "execute_result"
    }
   ],
   "source": [
    "np.prod(x2,axis=0)"
   ]
  },
  {
   "cell_type": "code",
   "execution_count": 131,
   "id": "d9e2a5be",
   "metadata": {},
   "outputs": [
    {
     "data": {
      "text/plain": [
       "array([  0,  60, 336])"
      ]
     },
     "execution_count": 131,
     "metadata": {},
     "output_type": "execute_result"
    }
   ],
   "source": [
    "np.prod(x2,axis=1)"
   ]
  },
  {
   "cell_type": "markdown",
   "id": "e55841be",
   "metadata": {},
   "source": [
    "### 3.min:()"
   ]
  },
  {
   "cell_type": "code",
   "execution_count": 132,
   "id": "f74fe2b4",
   "metadata": {},
   "outputs": [
    {
     "data": {
      "text/plain": [
       "array([0, 1, 2])"
      ]
     },
     "execution_count": 132,
     "metadata": {},
     "output_type": "execute_result"
    }
   ],
   "source": [
    "np.min(x2,axis=0)"
   ]
  },
  {
   "cell_type": "code",
   "execution_count": 135,
   "id": "4a8d790b",
   "metadata": {},
   "outputs": [
    {
     "data": {
      "text/plain": [
       "array([2, 5, 8])"
      ]
     },
     "execution_count": 135,
     "metadata": {},
     "output_type": "execute_result"
    }
   ],
   "source": [
    "np.max(x2,axis=1)"
   ]
  },
  {
   "cell_type": "markdown",
   "id": "90568573",
   "metadata": {},
   "source": [
    "### 4.max:()"
   ]
  },
  {
   "cell_type": "code",
   "execution_count": 136,
   "id": "bd3b7e4e",
   "metadata": {},
   "outputs": [
    {
     "data": {
      "text/plain": [
       "array([6, 7, 8])"
      ]
     },
     "execution_count": 136,
     "metadata": {},
     "output_type": "execute_result"
    }
   ],
   "source": [
    "np.max(x2,axis=0)"
   ]
  },
  {
   "cell_type": "markdown",
   "id": "99a94677",
   "metadata": {},
   "source": [
    "### 5.nan:()-- not any number"
   ]
  },
  {
   "cell_type": "markdown",
   "id": "8f78a3f8",
   "metadata": {},
   "source": [
    "#### *nan's defaulft datatype is float"
   ]
  },
  {
   "cell_type": "markdown",
   "id": "fa5e8a28",
   "metadata": {},
   "source": [
    "#### *it is used to create an empty array"
   ]
  },
  {
   "cell_type": "markdown",
   "id": "a57fd530",
   "metadata": {},
   "source": [
    "#### *it is not a string"
   ]
  },
  {
   "cell_type": "markdown",
   "id": "b019ea94",
   "metadata": {},
   "source": [
    "#### * we cannot perform sum and product in nan fun"
   ]
  },
  {
   "cell_type": "markdown",
   "id": "e66ca474",
   "metadata": {},
   "source": [
    "#### * nanas type() is used convert data type"
   ]
  },
  {
   "cell_type": "code",
   "execution_count": 137,
   "id": "c6cfefdb",
   "metadata": {},
   "outputs": [],
   "source": [
    "x2=x2.astype(float)"
   ]
  },
  {
   "cell_type": "code",
   "execution_count": null,
   "id": "11de3ee8",
   "metadata": {},
   "outputs": [],
   "source": []
  },
  {
   "cell_type": "code",
   "execution_count": 138,
   "id": "b359f93f",
   "metadata": {},
   "outputs": [
    {
     "data": {
      "text/plain": [
       "array([[0., 1., 2.],\n",
       "       [3., 4., 5.],\n",
       "       [6., 7., 8.]])"
      ]
     },
     "execution_count": 138,
     "metadata": {},
     "output_type": "execute_result"
    }
   ],
   "source": [
    "x2"
   ]
  },
  {
   "cell_type": "code",
   "execution_count": 139,
   "id": "6ba72318",
   "metadata": {},
   "outputs": [],
   "source": [
    "x2[1,1]=np.nan"
   ]
  },
  {
   "cell_type": "code",
   "execution_count": 140,
   "id": "a0fb185a",
   "metadata": {},
   "outputs": [
    {
     "data": {
      "text/plain": [
       "array([[ 0.,  1.,  2.],\n",
       "       [ 3., nan,  5.],\n",
       "       [ 6.,  7.,  8.]])"
      ]
     },
     "execution_count": 140,
     "metadata": {},
     "output_type": "execute_result"
    }
   ],
   "source": [
    "x2"
   ]
  },
  {
   "cell_type": "code",
   "execution_count": 141,
   "id": "df9e6104",
   "metadata": {},
   "outputs": [
    {
     "data": {
      "text/plain": [
       "nan"
      ]
     },
     "execution_count": 141,
     "metadata": {},
     "output_type": "execute_result"
    }
   ],
   "source": [
    "np.sum(x2)"
   ]
  },
  {
   "cell_type": "code",
   "execution_count": 142,
   "id": "e9463e72",
   "metadata": {},
   "outputs": [
    {
     "data": {
      "text/plain": [
       "nan"
      ]
     },
     "execution_count": 142,
     "metadata": {},
     "output_type": "execute_result"
    }
   ],
   "source": [
    "np.prod(x2)"
   ]
  },
  {
   "cell_type": "code",
   "execution_count": 143,
   "id": "efa6c163",
   "metadata": {},
   "outputs": [
    {
     "data": {
      "text/plain": [
       "32.0"
      ]
     },
     "execution_count": 143,
     "metadata": {},
     "output_type": "execute_result"
    }
   ],
   "source": [
    "np.nansum(x2)"
   ]
  },
  {
   "cell_type": "code",
   "execution_count": 144,
   "id": "b5369be9",
   "metadata": {},
   "outputs": [
    {
     "data": {
      "text/plain": [
       "0.0"
      ]
     },
     "execution_count": 144,
     "metadata": {},
     "output_type": "execute_result"
    }
   ],
   "source": [
    "np.nanprod(x2)"
   ]
  },
  {
   "cell_type": "code",
   "execution_count": null,
   "id": "e6653161",
   "metadata": {},
   "outputs": [],
   "source": []
  },
  {
   "cell_type": "code",
   "execution_count": 145,
   "id": "481fb8c6",
   "metadata": {},
   "outputs": [],
   "source": [
    "x3=np.arange(0,9,dtype=float).reshape(3,3)"
   ]
  },
  {
   "cell_type": "code",
   "execution_count": 146,
   "id": "73a71f76",
   "metadata": {},
   "outputs": [],
   "source": [
    "x3[0,1]=np.nan\n",
    "x3[1,2]=np.nan"
   ]
  },
  {
   "cell_type": "code",
   "execution_count": 147,
   "id": "d676abf6",
   "metadata": {},
   "outputs": [
    {
     "data": {
      "text/plain": [
       "array([[ 0., nan,  2.],\n",
       "       [ 3.,  4., nan],\n",
       "       [ 6.,  7.,  8.]])"
      ]
     },
     "execution_count": 147,
     "metadata": {},
     "output_type": "execute_result"
    }
   ],
   "source": [
    "x3"
   ]
  },
  {
   "cell_type": "code",
   "execution_count": 148,
   "id": "fd7d3eb4",
   "metadata": {},
   "outputs": [
    {
     "data": {
      "text/plain": [
       "array([[False,  True, False],\n",
       "       [False, False,  True],\n",
       "       [False, False, False]])"
      ]
     },
     "execution_count": 148,
     "metadata": {},
     "output_type": "execute_result"
    }
   ],
   "source": [
    "np.isnan(x3)"
   ]
  },
  {
   "cell_type": "markdown",
   "id": "eb68471b",
   "metadata": {},
   "source": [
    " x3[np.isnan(x3)]=10"
   ]
  },
  {
   "cell_type": "code",
   "execution_count": 149,
   "id": "e5b50469",
   "metadata": {},
   "outputs": [],
   "source": [
    "x3[np.isnan(x3)]=10"
   ]
  },
  {
   "cell_type": "markdown",
   "id": "fee82782",
   "metadata": {},
   "source": [
    "### 6.inf:()"
   ]
  },
  {
   "cell_type": "markdown",
   "id": "f7042cac",
   "metadata": {},
   "source": [
    "#### representing infinate value"
   ]
  },
  {
   "cell_type": "code",
   "execution_count": 150,
   "id": "e345eee9",
   "metadata": {},
   "outputs": [],
   "source": [
    "x3[0,0]=np.inf"
   ]
  },
  {
   "cell_type": "code",
   "execution_count": 151,
   "id": "317a600b",
   "metadata": {},
   "outputs": [
    {
     "data": {
      "text/plain": [
       "array([[inf, 10.,  2.],\n",
       "       [ 3.,  4., 10.],\n",
       "       [ 6.,  7.,  8.]])"
      ]
     },
     "execution_count": 151,
     "metadata": {},
     "output_type": "execute_result"
    }
   ],
   "source": [
    "x3"
   ]
  },
  {
   "cell_type": "code",
   "execution_count": 152,
   "id": "35c4ce78",
   "metadata": {},
   "outputs": [
    {
     "data": {
      "text/plain": [
       "array([[ True, False, False],\n",
       "       [False, False, False],\n",
       "       [False, False, False]])"
      ]
     },
     "execution_count": 152,
     "metadata": {},
     "output_type": "execute_result"
    }
   ],
   "source": [
    " np.isinf(x3)"
   ]
  },
  {
   "cell_type": "markdown",
   "id": "7c577f35",
   "metadata": {},
   "source": [
    "### 7.cumsum()-->cumulative sum"
   ]
  },
  {
   "cell_type": "code",
   "execution_count": 153,
   "id": "8bad3141",
   "metadata": {},
   "outputs": [],
   "source": [
    "x=np.array([1,2,3,4])"
   ]
  },
  {
   "cell_type": "code",
   "execution_count": 154,
   "id": "555791d9",
   "metadata": {},
   "outputs": [
    {
     "data": {
      "text/plain": [
       "array([ 1,  3,  6, 10], dtype=int32)"
      ]
     },
     "execution_count": 154,
     "metadata": {},
     "output_type": "execute_result"
    }
   ],
   "source": [
    "np.cumsum(x)"
   ]
  },
  {
   "cell_type": "code",
   "execution_count": 155,
   "id": "eefb594b",
   "metadata": {},
   "outputs": [
    {
     "data": {
      "text/plain": [
       "array([ 0,  1,  3,  6, 10, 15], dtype=int32)"
      ]
     },
     "execution_count": 155,
     "metadata": {},
     "output_type": "execute_result"
    }
   ],
   "source": [
    "np.cumsum(y)"
   ]
  },
  {
   "cell_type": "markdown",
   "id": "080c8012",
   "metadata": {},
   "source": [
    "### 8.cumprod:()"
   ]
  },
  {
   "cell_type": "code",
   "execution_count": 156,
   "id": "32e142bc",
   "metadata": {},
   "outputs": [
    {
     "data": {
      "text/plain": [
       "array([ 1,  2,  6, 24], dtype=int32)"
      ]
     },
     "execution_count": 156,
     "metadata": {},
     "output_type": "execute_result"
    }
   ],
   "source": [
    "np.cumprod(x)"
   ]
  },
  {
   "cell_type": "markdown",
   "id": "d026a25f",
   "metadata": {},
   "source": [
    "np.cumprod(x,axis=0)"
   ]
  },
  {
   "cell_type": "code",
   "execution_count": 157,
   "id": "9a87102b",
   "metadata": {},
   "outputs": [
    {
     "data": {
      "text/plain": [
       "array([ 1,  2,  6, 24], dtype=int32)"
      ]
     },
     "execution_count": 157,
     "metadata": {},
     "output_type": "execute_result"
    }
   ],
   "source": [
    "np.cumprod(x,axis=0)"
   ]
  },
  {
   "cell_type": "code",
   "execution_count": 158,
   "id": "18149ff3",
   "metadata": {},
   "outputs": [
    {
     "data": {
      "text/plain": [
       "array([0, 0, 0, 0, 0, 0], dtype=int32)"
      ]
     },
     "execution_count": 158,
     "metadata": {},
     "output_type": "execute_result"
    }
   ],
   "source": [
    "np.cumprod(y)"
   ]
  },
  {
   "cell_type": "code",
   "execution_count": 159,
   "id": "a1e29dbd",
   "metadata": {},
   "outputs": [],
   "source": [
    "y=np.arange(0,6).reshape(3,2)"
   ]
  },
  {
   "cell_type": "code",
   "execution_count": 160,
   "id": "24d8a675",
   "metadata": {},
   "outputs": [
    {
     "data": {
      "text/plain": [
       "array([[0, 1],\n",
       "       [2, 3],\n",
       "       [4, 5]])"
      ]
     },
     "execution_count": 160,
     "metadata": {},
     "output_type": "execute_result"
    }
   ],
   "source": [
    "y"
   ]
  },
  {
   "cell_type": "code",
   "execution_count": 161,
   "id": "29d0fc4d",
   "metadata": {},
   "outputs": [],
   "source": [
    "y=y.astype(float)"
   ]
  },
  {
   "cell_type": "code",
   "execution_count": 162,
   "id": "314c1209",
   "metadata": {},
   "outputs": [],
   "source": [
    "y[1,1]=np.nan"
   ]
  },
  {
   "cell_type": "code",
   "execution_count": 163,
   "id": "1b9dd54d",
   "metadata": {},
   "outputs": [
    {
     "data": {
      "text/plain": [
       "array([[ 0.,  1.],\n",
       "       [ 2., nan],\n",
       "       [ 4.,  5.]])"
      ]
     },
     "execution_count": 163,
     "metadata": {},
     "output_type": "execute_result"
    }
   ],
   "source": [
    "y"
   ]
  },
  {
   "cell_type": "code",
   "execution_count": 164,
   "id": "5e249107",
   "metadata": {},
   "outputs": [
    {
     "data": {
      "text/plain": [
       "array([ 0.,  1.,  3., nan, nan, nan])"
      ]
     },
     "execution_count": 164,
     "metadata": {},
     "output_type": "execute_result"
    }
   ],
   "source": [
    "np.cumsum(y)"
   ]
  },
  {
   "cell_type": "code",
   "execution_count": 165,
   "id": "1b8e0527",
   "metadata": {},
   "outputs": [
    {
     "data": {
      "text/plain": [
       "array([ 0.,  1.,  3.,  3.,  7., 12.])"
      ]
     },
     "execution_count": 165,
     "metadata": {},
     "output_type": "execute_result"
    }
   ],
   "source": [
    "np.nancumsum(y)"
   ]
  },
  {
   "cell_type": "code",
   "execution_count": 166,
   "id": "f62e3f47",
   "metadata": {},
   "outputs": [
    {
     "data": {
      "text/plain": [
       "array([ 0.,  0.,  0., nan, nan, nan])"
      ]
     },
     "execution_count": 166,
     "metadata": {},
     "output_type": "execute_result"
    }
   ],
   "source": [
    "np.cumprod(y)"
   ]
  },
  {
   "cell_type": "code",
   "execution_count": 167,
   "id": "c6ac6f23",
   "metadata": {},
   "outputs": [
    {
     "data": {
      "text/plain": [
       "array([0., 0., 0., 0., 0., 0.])"
      ]
     },
     "execution_count": 167,
     "metadata": {},
     "output_type": "execute_result"
    }
   ],
   "source": [
    "np.nancumprod(y)"
   ]
  },
  {
   "cell_type": "markdown",
   "id": "39bd8bf2",
   "metadata": {},
   "source": [
    "### 9.flatten:()"
   ]
  },
  {
   "cell_type": "markdown",
   "id": "2ec25291",
   "metadata": {},
   "source": [
    "#### * it will convert all the rows into a single row"
   ]
  },
  {
   "cell_type": "markdown",
   "id": "350f7c15",
   "metadata": {},
   "source": [
    "#### * it will give you a new array"
   ]
  },
  {
   "cell_type": "markdown",
   "id": "66b53509",
   "metadata": {},
   "source": [
    "#### * it is the copy of the array. it will not change the array."
   ]
  },
  {
   "cell_type": "code",
   "execution_count": 168,
   "id": "9eb80b71",
   "metadata": {},
   "outputs": [
    {
     "data": {
      "text/plain": [
       "array([ 0.,  1.,  2., nan,  4.,  5.])"
      ]
     },
     "execution_count": 168,
     "metadata": {},
     "output_type": "execute_result"
    }
   ],
   "source": [
    "y.flatten()"
   ]
  },
  {
   "cell_type": "code",
   "execution_count": 169,
   "id": "1e2060b7",
   "metadata": {},
   "outputs": [
    {
     "data": {
      "text/plain": [
       "array([[ 0.,  1.],\n",
       "       [ 2., nan],\n",
       "       [ 4.,  5.]])"
      ]
     },
     "execution_count": 169,
     "metadata": {},
     "output_type": "execute_result"
    }
   ],
   "source": [
    "y"
   ]
  },
  {
   "cell_type": "markdown",
   "id": "da75a7ce",
   "metadata": {},
   "source": [
    "### 10.ravel()"
   ]
  },
  {
   "cell_type": "code",
   "execution_count": 170,
   "id": "bee8550a",
   "metadata": {},
   "outputs": [
    {
     "data": {
      "text/plain": [
       "array([ 0.,  1.,  2., nan,  4.,  5.])"
      ]
     },
     "execution_count": 170,
     "metadata": {},
     "output_type": "execute_result"
    }
   ],
   "source": [
    "y.ravel()"
   ]
  },
  {
   "cell_type": "code",
   "execution_count": 171,
   "id": "dd93403b",
   "metadata": {},
   "outputs": [
    {
     "data": {
      "text/plain": [
       "array([[ 0.,  1.],\n",
       "       [ 2., nan],\n",
       "       [ 4.,  5.]])"
      ]
     },
     "execution_count": 171,
     "metadata": {},
     "output_type": "execute_result"
    }
   ],
   "source": [
    "y"
   ]
  },
  {
   "cell_type": "code",
   "execution_count": 172,
   "id": "9c86fcb2",
   "metadata": {},
   "outputs": [],
   "source": [
    "y[0]=1000"
   ]
  },
  {
   "cell_type": "code",
   "execution_count": 173,
   "id": "5306da16",
   "metadata": {},
   "outputs": [
    {
     "data": {
      "text/plain": [
       "array([[1000., 1000.],\n",
       "       [   2.,   nan],\n",
       "       [   4.,    5.]])"
      ]
     },
     "execution_count": 173,
     "metadata": {},
     "output_type": "execute_result"
    }
   ],
   "source": [
    "y"
   ]
  },
  {
   "cell_type": "code",
   "execution_count": 174,
   "id": "ff172d15",
   "metadata": {},
   "outputs": [],
   "source": [
    "y[0,0]=100"
   ]
  },
  {
   "cell_type": "code",
   "execution_count": 175,
   "id": "01036a49",
   "metadata": {},
   "outputs": [
    {
     "data": {
      "text/plain": [
       "array([[ 100., 1000.],\n",
       "       [   2.,   nan],\n",
       "       [   4.,    5.]])"
      ]
     },
     "execution_count": 175,
     "metadata": {},
     "output_type": "execute_result"
    }
   ],
   "source": [
    "y"
   ]
  },
  {
   "cell_type": "markdown",
   "id": "cb8f281c",
   "metadata": {},
   "source": [
    "### 11.round()"
   ]
  },
  {
   "cell_type": "code",
   "execution_count": 176,
   "id": "f2a5df79",
   "metadata": {},
   "outputs": [],
   "source": [
    "x=np.array([1.3456 , 4.57836536 , 5.457354658])"
   ]
  },
  {
   "cell_type": "code",
   "execution_count": 177,
   "id": "61ea6378",
   "metadata": {},
   "outputs": [
    {
     "data": {
      "text/plain": [
       "array([1.3456    , 4.57836536, 5.45735466])"
      ]
     },
     "execution_count": 177,
     "metadata": {},
     "output_type": "execute_result"
    }
   ],
   "source": [
    "x"
   ]
  },
  {
   "cell_type": "code",
   "execution_count": 178,
   "id": "06d5e8cf",
   "metadata": {},
   "outputs": [
    {
     "data": {
      "text/plain": [
       "array([1.346, 4.578, 5.457])"
      ]
     },
     "execution_count": 178,
     "metadata": {},
     "output_type": "execute_result"
    }
   ],
   "source": [
    "np.round(x,3)"
   ]
  },
  {
   "cell_type": "code",
   "execution_count": 179,
   "id": "e24e4a4b",
   "metadata": {},
   "outputs": [
    {
     "data": {
      "text/plain": [
       "array([1.3, 4.6, 5.5])"
      ]
     },
     "execution_count": 179,
     "metadata": {},
     "output_type": "execute_result"
    }
   ],
   "source": [
    "np.round(x,1)"
   ]
  },
  {
   "cell_type": "code",
   "execution_count": 181,
   "id": "674f5cde",
   "metadata": {},
   "outputs": [
    {
     "data": {
      "text/plain": [
       "array([1., 5., 5.])"
      ]
     },
     "execution_count": 181,
     "metadata": {},
     "output_type": "execute_result"
    }
   ],
   "source": [
    "np.round(x)"
   ]
  },
  {
   "cell_type": "markdown",
   "id": "85b2ef42",
   "metadata": {},
   "source": [
    "### 12.ceil:()"
   ]
  },
  {
   "cell_type": "code",
   "execution_count": 184,
   "id": "eddd1ee6",
   "metadata": {},
   "outputs": [
    {
     "data": {
      "text/plain": [
       "array([2., 5., 6.])"
      ]
     },
     "execution_count": 184,
     "metadata": {},
     "output_type": "execute_result"
    }
   ],
   "source": [
    "np.ceil(x)"
   ]
  },
  {
   "cell_type": "markdown",
   "id": "e0266787",
   "metadata": {},
   "source": [
    "### 13.floor()"
   ]
  },
  {
   "cell_type": "code",
   "execution_count": 186,
   "id": "8cfd629a",
   "metadata": {},
   "outputs": [
    {
     "data": {
      "text/plain": [
       "array([1., 4., 5.])"
      ]
     },
     "execution_count": 186,
     "metadata": {},
     "output_type": "execute_result"
    }
   ],
   "source": [
    "np.floor(x)"
   ]
  },
  {
   "cell_type": "markdown",
   "id": "7c17b307",
   "metadata": {},
   "source": [
    "### 14.log()"
   ]
  },
  {
   "cell_type": "code",
   "execution_count": 188,
   "id": "14f3cd1a",
   "metadata": {},
   "outputs": [],
   "source": [
    "z=np.array([2,3,4,5,6,-3,9])"
   ]
  },
  {
   "cell_type": "code",
   "execution_count": 189,
   "id": "7537a57b",
   "metadata": {},
   "outputs": [
    {
     "name": "stderr",
     "output_type": "stream",
     "text": [
      "C:\\Users\\Ravi Kumar\\AppData\\Local\\Temp\\ipykernel_19916\\2292707815.py:1: RuntimeWarning: invalid value encountered in sqrt\n",
      "  np.sqrt(z)\n"
     ]
    },
    {
     "data": {
      "text/plain": [
       "array([1.41421356, 1.73205081, 2.        , 2.23606798, 2.44948974,\n",
       "              nan, 3.        ])"
      ]
     },
     "execution_count": 189,
     "metadata": {},
     "output_type": "execute_result"
    }
   ],
   "source": [
    "np.sqrt(z)"
   ]
  },
  {
   "cell_type": "markdown",
   "id": "36a1cc98",
   "metadata": {},
   "source": [
    "### 15.sqrt()---square root"
   ]
  },
  {
   "cell_type": "code",
   "execution_count": 190,
   "id": "691e096c",
   "metadata": {},
   "outputs": [
    {
     "name": "stderr",
     "output_type": "stream",
     "text": [
      "C:\\Users\\Ravi Kumar\\AppData\\Local\\Temp\\ipykernel_19916\\2047398432.py:1: RuntimeWarning: invalid value encountered in log\n",
      "  np.log(z)\n"
     ]
    },
    {
     "data": {
      "text/plain": [
       "array([0.69314718, 1.09861229, 1.38629436, 1.60943791, 1.79175947,\n",
       "              nan, 2.19722458])"
      ]
     },
     "execution_count": 190,
     "metadata": {},
     "output_type": "execute_result"
    }
   ],
   "source": [
    "np.log(z)"
   ]
  },
  {
   "cell_type": "code",
   "execution_count": 191,
   "id": "a097b3a9",
   "metadata": {},
   "outputs": [
    {
     "data": {
      "text/plain": [
       "1.7320508075688772"
      ]
     },
     "execution_count": 191,
     "metadata": {},
     "output_type": "execute_result"
    }
   ],
   "source": [
    "3**(1/2)"
   ]
  },
  {
   "cell_type": "code",
   "execution_count": null,
   "id": "24a158a9",
   "metadata": {},
   "outputs": [],
   "source": []
  }
 ],
 "metadata": {
  "kernelspec": {
   "display_name": "Python 3 (ipykernel)",
   "language": "python",
   "name": "python3"
  },
  "language_info": {
   "codemirror_mode": {
    "name": "ipython",
    "version": 3
   },
   "file_extension": ".py",
   "mimetype": "text/x-python",
   "name": "python",
   "nbconvert_exporter": "python",
   "pygments_lexer": "ipython3",
   "version": "3.9.13"
  }
 },
 "nbformat": 4,
 "nbformat_minor": 5
}
